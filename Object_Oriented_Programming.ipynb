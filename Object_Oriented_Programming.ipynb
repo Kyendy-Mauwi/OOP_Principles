{
 "cells": [
  {
   "cell_type": "markdown",
   "id": "3ba08944",
   "metadata": {},
   "source": [
    "# Object-Oriented Programming"
   ]
  },
  {
   "cell_type": "markdown",
   "id": "4b80ab45",
   "metadata": {},
   "source": [
    "## Introduction to OOP\n",
    "\n",
    "Object-Oriented Programming (OOP) is a programming paradigm that focuses on organizing code using objects and classes. It helps to create more modular, reusable, and maintainable code.\n",
    "\n",
    "Focuses on encapsulating data(attributes) and behavior(methods or functions) into self-contained units called objects.\n",
    "\n",
    "Has four main principles:\n",
    "\n",
    "# **Encapsulation**: \n",
    "Encapsulation is the concept of bundling data (attributes) and the methods (functions) that operate on that data within a single unit, i.e., the object. It allows the object to control its own data and restricts direct access from outside. In the provided code, the classes `People`, `Police`, and `Driver` exhibit encapsulation by defining attributes (name, age, occupation, route, sacco) and methods `(show_name()`, `show_age()`, `show_occupation()`, `greet()`, `show_route()`, `and show_sacco())` that operate on the data within the classes. The attributes are accessed and modified through getter and setter methods, ensuring that the internal state of the objects is protected from direct manipulation.\n",
    "\n",
    "# **Abstraction**: \n",
    "Abstraction is the process of representing the essential features of an object while hiding the unnecessary details. It allows you to focus on what an object does rather than how it does it. In the provided code, the classes `People`, `Police`, and `Driver` provide an abstraction of various entities (people, police officers, drivers) in the form of objects. Each class encapsulates its specific data (attributes) and behavior (methods), abstracting the complexity and providing a clear interface for interaction. For example, the method `greet()` in the `Police` class abstracts the way a police officer greets without revealing the internal implementation.\n",
    "\n",
    "# **Inheritance**:\n",
    "Enables the creation of a new subclass based on an existing superclass. Inheritance is the process by which a class (subclass) can inherit attributes and methods from another class (superclass). It promotes code reusability and allows the creation of a hierarchy of classes. In the provided code, the classes `Police` and `Driver` are subclasses of the `People` class. They inherit attributes (name, age, occupation) and methods `(show_name()`, `show_age()`, `show_occupation())` from the superclass People. Additionally, the Driver class is a subclass of the Adult class, which provides the `is_adult()` method. Inheritance allows the subclasses to extend and specialize the behavior of their superclasses without repeating the common functionalities.\n",
    "\n",
    "# **Polymorphism**:\n",
    "Polymorphism is the ability of objects of different classes to be treated as objects of a common superclass. It allows you to write code that can work with objects of various types without needing to know their specific classes. Polymorphism can be achieved through method overriding and method overloading.\n",
    "\n",
    "In the provided code, polymorphism is demonstrated through method overriding in the `Police` and `Driver` classes. Both `Police` and `Driver` are subclasses of the `People` class. They inherit the `show_name()`, `show_age()`, and `show_occupation()` methods from the `People` class but provide their own specific implementation of the `greet()` method."
   ]
  },
  {
   "cell_type": "markdown",
   "id": "17755eca",
   "metadata": {},
   "source": [
    "### Classes and objects\n",
    "* A class is a blueprint for creating objects. It defines a set of attributes and methods that the objects created from the class will have.\n",
    "\n",
    "* An object is an instance of a class. It has its own set of attributes and can use the methods defined in its class."
   ]
  },
  {
   "cell_type": "code",
   "execution_count": 14,
   "id": "71c9d204",
   "metadata": {},
   "outputs": [
    {
     "name": "stdout",
     "output_type": "stream",
     "text": [
      "My name is John Doe.\n",
      "I am 24 years old.\n",
      "I am a student by profession.\n",
      "My name is Jane Doe.\n",
      "I am 21 years old.\n",
      "I am a student by profession.\n"
     ]
    }
   ],
   "source": [
    "class People:\n",
    "    def __init__(self, name, age, occupation):\n",
    "        self.name = name\n",
    "        self.age = age\n",
    "        self.occupation = occupation\n",
    "        \n",
    "    def show_name(self):\n",
    "            print(f\"My name is {self.name}.\")\n",
    "            \n",
    "    def show_age(self):\n",
    "            print(f\"I am {self.age} years old.\")\n",
    "            \n",
    "    def show_occupation(self):\n",
    "            print(f\"I am a {self.occupation} by profession.\")\n",
    "            \n",
    "person_one = People(\"John Doe\", 24, \"student\")\n",
    "\n",
    "person_one.show_name()\n",
    "person_one.show_age()\n",
    "person_one.show_occupation()\n",
    "\n",
    "person_two = People(\"Jane Doe\", 21, \"student\")\n",
    "\n",
    "person_two.show_name()\n",
    "person_two.show_age()\n",
    "person_two.show_occupation()"
   ]
  },
  {
   "cell_type": "markdown",
   "id": "468e39cd",
   "metadata": {},
   "source": [
    "#### Basic Inheritance"
   ]
  },
  {
   "cell_type": "code",
   "execution_count": 33,
   "id": "82b445c5",
   "metadata": {},
   "outputs": [
    {
     "name": "stdout",
     "output_type": "stream",
     "text": [
      "My name is John Doe.\n",
      "I am 24 years old.\n",
      "I am a student by profession.\n",
      "\n",
      "My name is Jane Doe.\n",
      "I am 21 years old.\n",
      "I am a student by profession.\n",
      "\n",
      "Hello, I am Mohammed and I am a police officer\n",
      "My name is Mohammed.\n",
      "I am 35 years old.\n",
      "I am a police officer by profession.\n",
      "\n"
     ]
    }
   ],
   "source": [
    "class People:\n",
    "    def __init__(self, name, age, occupation):\n",
    "        self.name = name\n",
    "        self.age = age\n",
    "        self.occupation = occupation\n",
    "        \n",
    "    def show_name(self):\n",
    "            print(f\"My name is {self.name}.\")\n",
    "            \n",
    "    def show_age(self):\n",
    "            print(f\"I am {self.age} years old.\")\n",
    "            \n",
    "    def show_occupation(self):\n",
    "            print(f\"I am a {self.occupation} by profession.\\n\")\n",
    "            \n",
    "person_one = People(\"John Doe\", 24, \"student\")\n",
    "\n",
    "person_one.show_name()\n",
    "person_one.show_age()\n",
    "person_one.show_occupation()\n",
    "\n",
    "person_two = People(\"Jane Doe\", 21, \"student\")\n",
    "\n",
    "person_two.show_name()\n",
    "person_two.show_age()\n",
    "person_two.show_occupation()\n",
    "\n",
    "class Police(People):\n",
    "    def greet(self):\n",
    "        print(f\"Hello, I am {self.name} and I am a {self.occupation}\")\n",
    "        \n",
    "person_three = Police(\"Mohammed\", 35, \"police officer\")\n",
    "\n",
    "person_three.greet() \n",
    "person_three.show_name()\n",
    "person_three.show_age()\n",
    "person_three.show_occupation()"
   ]
  },
  {
   "cell_type": "markdown",
   "id": "32d35014",
   "metadata": {},
   "source": [
    "#### Using super()"
   ]
  },
  {
   "cell_type": "markdown",
   "id": "7fd2bef9",
   "metadata": {},
   "source": [
    "The super() function allows you to call a method from the superclass. This is useful when you want to extend or override the behavior of the superclass method."
   ]
  },
  {
   "cell_type": "code",
   "execution_count": 43,
   "id": "b53c0038",
   "metadata": {},
   "outputs": [
    {
     "name": "stdout",
     "output_type": "stream",
     "text": [
      "My name is John Doe.\n",
      "I am 24 years old.\n",
      "I am a student by profession.\n",
      "\n",
      "My name is Jane Doe.\n",
      "I am 21 years old.\n",
      "I am a student by profession.\n",
      "\n",
      "Hello, I am Mohammed and I am a police officer\n",
      "My name is Mohammed.\n",
      "I am 35 years old.\n",
      "I am a police officer by profession.\n",
      "\n",
      "My name is David Ngigi.\n",
      "I am 30 years old.\n",
      "I am a driver by profession.\n",
      "\n",
      "I drive the Kiambu Road route\n",
      "I serve the KINA sacco\n"
     ]
    }
   ],
   "source": [
    "class People:\n",
    "    def __init__(self, name, age, occupation):\n",
    "        self.name = name\n",
    "        self.age = age\n",
    "        self.occupation = occupation\n",
    "        \n",
    "    def show_name(self):\n",
    "            print(f\"My name is {self.name}.\")\n",
    "            \n",
    "    def show_age(self):\n",
    "            print(f\"I am {self.age} years old.\")\n",
    "            \n",
    "    def show_occupation(self):\n",
    "            print(f\"I am a {self.occupation} by profession.\\n\")\n",
    "            \n",
    "person_one = People(\"John Doe\", 24, \"student\")\n",
    "\n",
    "person_one.show_name()\n",
    "person_one.show_age()\n",
    "person_one.show_occupation()\n",
    "\n",
    "person_two = People(\"Jane Doe\", 21, \"student\")\n",
    "\n",
    "person_two.show_name()\n",
    "person_two.show_age()\n",
    "person_two.show_occupation()\n",
    "\n",
    "class Police(People):\n",
    "    def greet(self):\n",
    "        print(f\"Hello, I am {self.name} and I am a {self.occupation}\")\n",
    "        \n",
    "person_three = Police(\"Mohammed\", 35, \"police officer\")\n",
    "\n",
    "person_three.greet() \n",
    "person_three.show_name()\n",
    "person_three.show_age()\n",
    "person_three.show_occupation()\n",
    "\n",
    "class Driver(People):\n",
    "    def __init__(self, name, age, occupation, route, sacco):\n",
    "        super().__init__(name, age, occupation)\n",
    "        self.route = route\n",
    "        self.sacco = sacco\n",
    "        \n",
    "    def show_route(self):\n",
    "        print(f\"I drive the {self.route} route\")\n",
    "        \n",
    "    def show_sacco(self):\n",
    "        print(f\"I serve the {self.sacco} sacco\")\n",
    "        \n",
    "person_four = Driver(\"David Ngigi\", 30, \"driver\", \"Kiambu Road\", \"KINA\")\n",
    " \n",
    "person_four.show_name()\n",
    "person_four.show_age()\n",
    "person_four.show_occupation()\n",
    "person_four.show_route()\n",
    "person_four.show_sacco()"
   ]
  },
  {
   "cell_type": "markdown",
   "id": "263194d9",
   "metadata": {},
   "source": [
    "#### Multiple Inheritance"
   ]
  },
  {
   "cell_type": "markdown",
   "id": "d1e0a839",
   "metadata": {},
   "source": [
    "Python supports multiple inheritance, where a class can inherit from more than one superclass."
   ]
  },
  {
   "cell_type": "code",
   "execution_count": 1,
   "id": "0a854a04",
   "metadata": {},
   "outputs": [
    {
     "name": "stdout",
     "output_type": "stream",
     "text": [
      "My name is John Doe.\n",
      "I am 24 years old.\n",
      "I am a student by profession\n",
      "My name is Jane Doe.\n",
      "I am 21 years old.\n",
      "I am a student by profession\n",
      "Hello, I am Mohammed and I am a police officer\n",
      "My name is Mohammed.\n",
      "I am 35 years old.\n",
      "I am a police officer by profession\n",
      "My name is David Ngigi.\n",
      "I am 30 years old.\n",
      "I am a driver by profession\n",
      "I drive the Kiambu Road route\n",
      "I serve the KINA sacco\n",
      "Is an adult: True\n"
     ]
    }
   ],
   "source": [
    "class People:\n",
    "    def __init__(self, name, age, occupation):\n",
    "        self.name = name\n",
    "        self.age = age\n",
    "        self.occupation = occupation\n",
    "        \n",
    "    def show_name(self):\n",
    "            print(f\"My name is {self.name}.\")\n",
    "            \n",
    "    def show_age(self):\n",
    "            print(f\"I am {self.age} years old.\")\n",
    "            \n",
    "    def show_occupation(self):\n",
    "            print(f\"I am a {self.occupation} by profession\")\n",
    "            \n",
    "class Adult(People):\n",
    "    def is_adult(self):\n",
    "        return True\n",
    "            \n",
    "person_one = People(\"John Doe\", 24, \"student\")\n",
    "\n",
    "person_one.show_name()\n",
    "person_one.show_age()\n",
    "person_one.show_occupation()\n",
    "\n",
    "person_two = People(\"Jane Doe\", 21, \"student\")\n",
    "\n",
    "person_two.show_name()\n",
    "person_two.show_age()\n",
    "person_two.show_occupation()\n",
    "\n",
    "class Police(People):\n",
    "    def greet(self):\n",
    "        print(f\"Hello, I am {self.name} and I am a {self.occupation}\")\n",
    "        \n",
    "person_three = Police(\"Mohammed\", 35, \"police officer\")\n",
    "\n",
    "person_three.greet() \n",
    "person_three.show_name()\n",
    "person_three.show_age()\n",
    "person_three.show_occupation()\n",
    "\n",
    "class Driver(Adult):\n",
    "    def __init__(self, name, age, occupation, route, sacco):\n",
    "        super().__init__(name, age, occupation)\n",
    "        self.route = route\n",
    "        self.sacco = sacco\n",
    "        \n",
    "    def show_route(self):\n",
    "        print(f\"I drive the {self.route} route\")\n",
    "        \n",
    "    def show_sacco(self):\n",
    "        print(f\"I serve the {self.sacco} sacco\")\n",
    "        \n",
    "person_four = Driver(\"David Ngigi\", 30, \"driver\", \"Kiambu Road\", \"KINA\")\n",
    " \n",
    "person_four.show_name()\n",
    "person_four.show_age()\n",
    "person_four.show_occupation()\n",
    "person_four.show_route()\n",
    "person_four.show_sacco()\n",
    "\n",
    "print(\"Is an adult:\", person_four.is_adult())"
   ]
  }
 ],
 "metadata": {
  "kernelspec": {
   "display_name": "Python 3 (ipykernel)",
   "language": "python",
   "name": "python3"
  },
  "language_info": {
   "codemirror_mode": {
    "name": "ipython",
    "version": 3
   },
   "file_extension": ".py",
   "mimetype": "text/x-python",
   "name": "python",
   "nbconvert_exporter": "python",
   "pygments_lexer": "ipython3",
   "version": "3.11.1"
  }
 },
 "nbformat": 4,
 "nbformat_minor": 5
}
